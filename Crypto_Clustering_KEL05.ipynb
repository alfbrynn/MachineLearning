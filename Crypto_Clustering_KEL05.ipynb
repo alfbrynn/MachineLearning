{
  "cells": [
    {
      "cell_type": "markdown",
      "metadata": {
        "id": "view-in-github",
        "colab_type": "text"
      },
      "source": [
        "<a href=\"https://colab.research.google.com/github/alfbrynn/MachineLearning/blob/main/Crypto_Clustering_KEL05.ipynb\" target=\"_parent\"><img src=\"https://colab.research.google.com/assets/colab-badge.svg\" alt=\"Open In Colab\"/></a>"
      ]
    },
    {
      "cell_type": "markdown",
      "id": "b1215f37",
      "metadata": {
        "id": "b1215f37"
      },
      "source": [
        "# KEL5 Crypto Clustering — Kmeans,Dbscan,Orange\n",
        "\n",
        "ANGGOTA KELOMPOK :\n",
        "\n",
        "```\n",
        "27,TAUFIK DIMAS EDYSTARA,2341720062\n",
        "```\n",
        "\n",
        "```\n",
        "19,PETRUS TYANG AGUNG ROSARIO,2341720227\n",
        "```\n",
        "\n",
        "```\n",
        "17,MUHAMMAD ALIF FEBRIANSYAH,2341720025\n",
        "```\n",
        "\n",
        "```\n",
        "23,RAUDHIL FIRDAUS NAUFAL,2341720164\n",
        "```\n",
        "\n",
        "```\n",
        "28,TIONUSA CATUR PAMUNGKAS,2341720093\n",
        "```\n"
      ]
    },
    {
      "cell_type": "markdown",
      "id": "53558e55",
      "metadata": {
        "id": "53558e55"
      },
      "source": [
        "## 1) Libraries"
      ]
    },
    {
      "cell_type": "code",
      "execution_count": null,
      "id": "c1547899",
      "metadata": {
        "colab": {
          "base_uri": "https://localhost:8080/"
        },
        "id": "c1547899",
        "outputId": "288ac7a9-c9ce-481f-c3de-4e636680fd61"
      },
      "outputs": [
        {
          "output_type": "stream",
          "name": "stdout",
          "text": [
            "Libraries loaded.\n"
          ]
        }
      ],
      "source": [
        "# === Libraries  ===\n",
        "import warnings, os\n",
        "import numpy as np\n",
        "import pandas as pd\n",
        "import matplotlib.pyplot as plt\n",
        "\n",
        "from sklearn.preprocessing import StandardScaler\n",
        "from sklearn.decomposition import PCA\n",
        "from sklearn.cluster import KMeans, DBSCAN\n",
        "from sklearn.metrics import silhouette_score\n",
        "from sklearn.neighbors import NearestNeighbors\n",
        "\n",
        "import kagglehub\n",
        "warnings.filterwarnings(\"ignore\")\n",
        "pd.set_option(\"display.max_columns\", 120)\n",
        "pd.set_option(\"display.width\", 160)\n",
        "print(\"Libraries loaded.\")"
      ]
    },
    {
      "cell_type": "markdown",
      "id": "988f217d",
      "metadata": {
        "id": "988f217d"
      },
      "source": [
        "## 2) Load & Tampilkan Data"
      ]
    },
    {
      "cell_type": "code",
      "execution_count": null,
      "id": "0fe8930d",
      "metadata": {
        "colab": {
          "base_uri": "https://localhost:8080/",
          "height": 476
        },
        "id": "0fe8930d",
        "outputId": "03658699-24ec-4dc3-e7c6-79bc8ace732a"
      },
      "outputs": [
        {
          "output_type": "stream",
          "name": "stdout",
          "text": [
            "Using Colab cache for faster access to the 'top-100-cryptocurrency-2020-2025' dataset.\n",
            "Path to dataset files: /kaggle/input/top-100-cryptocurrency-2020-2025\n",
            "Shape (raw): (211679, 7)\n"
          ]
        },
        {
          "output_type": "display_data",
          "data": {
            "text/plain": [
              "           symbol        date      open      high       low     close   network\n",
              "0         BTCUSDT  2018-08-01  7735.670  7750.000  7430.000  7604.580   Bitcoin\n",
              "1         BTCUSDT  2018-08-02  7600.080  7709.460  7455.720  7525.710   Bitcoin\n",
              "2         BTCUSDT  2018-08-03  7525.710  7540.000  7282.440  7418.780   Bitcoin\n",
              "3         BTCUSDT  2018-08-04  7412.270  7494.810  6926.000  7009.840   Bitcoin\n",
              "4         BTCUSDT  2018-08-05  7009.840  7089.870  6882.290  7024.190   Bitcoin\n",
              "...           ...         ...       ...       ...       ...       ...       ...\n",
              "199995  SUSHIUSDT  2023-02-12     1.312     1.324     1.241     1.267  Ethereum\n",
              "199996  SUSHIUSDT  2023-02-13     1.267     1.287     1.205     1.284  Ethereum\n",
              "199997  SUSHIUSDT  2023-02-14     1.283     1.326     1.244     1.308  Ethereum\n",
              "199998  SUSHIUSDT  2023-02-15     1.308     1.420     1.283     1.418  Ethereum\n",
              "199999  SUSHIUSDT  2023-02-16     1.418     1.439     1.315     1.324  Ethereum\n",
              "\n",
              "[200000 rows x 7 columns]"
            ],
            "text/html": [
              "\n",
              "  <div id=\"df-bdb79806-d533-4700-9c79-3e34d12d3772\" class=\"colab-df-container\">\n",
              "    <div>\n",
              "<style scoped>\n",
              "    .dataframe tbody tr th:only-of-type {\n",
              "        vertical-align: middle;\n",
              "    }\n",
              "\n",
              "    .dataframe tbody tr th {\n",
              "        vertical-align: top;\n",
              "    }\n",
              "\n",
              "    .dataframe thead th {\n",
              "        text-align: right;\n",
              "    }\n",
              "</style>\n",
              "<table border=\"1\" class=\"dataframe\">\n",
              "  <thead>\n",
              "    <tr style=\"text-align: right;\">\n",
              "      <th></th>\n",
              "      <th>symbol</th>\n",
              "      <th>date</th>\n",
              "      <th>open</th>\n",
              "      <th>high</th>\n",
              "      <th>low</th>\n",
              "      <th>close</th>\n",
              "      <th>network</th>\n",
              "    </tr>\n",
              "  </thead>\n",
              "  <tbody>\n",
              "    <tr>\n",
              "      <th>0</th>\n",
              "      <td>BTCUSDT</td>\n",
              "      <td>2018-08-01</td>\n",
              "      <td>7735.670</td>\n",
              "      <td>7750.000</td>\n",
              "      <td>7430.000</td>\n",
              "      <td>7604.580</td>\n",
              "      <td>Bitcoin</td>\n",
              "    </tr>\n",
              "    <tr>\n",
              "      <th>1</th>\n",
              "      <td>BTCUSDT</td>\n",
              "      <td>2018-08-02</td>\n",
              "      <td>7600.080</td>\n",
              "      <td>7709.460</td>\n",
              "      <td>7455.720</td>\n",
              "      <td>7525.710</td>\n",
              "      <td>Bitcoin</td>\n",
              "    </tr>\n",
              "    <tr>\n",
              "      <th>2</th>\n",
              "      <td>BTCUSDT</td>\n",
              "      <td>2018-08-03</td>\n",
              "      <td>7525.710</td>\n",
              "      <td>7540.000</td>\n",
              "      <td>7282.440</td>\n",
              "      <td>7418.780</td>\n",
              "      <td>Bitcoin</td>\n",
              "    </tr>\n",
              "    <tr>\n",
              "      <th>3</th>\n",
              "      <td>BTCUSDT</td>\n",
              "      <td>2018-08-04</td>\n",
              "      <td>7412.270</td>\n",
              "      <td>7494.810</td>\n",
              "      <td>6926.000</td>\n",
              "      <td>7009.840</td>\n",
              "      <td>Bitcoin</td>\n",
              "    </tr>\n",
              "    <tr>\n",
              "      <th>4</th>\n",
              "      <td>BTCUSDT</td>\n",
              "      <td>2018-08-05</td>\n",
              "      <td>7009.840</td>\n",
              "      <td>7089.870</td>\n",
              "      <td>6882.290</td>\n",
              "      <td>7024.190</td>\n",
              "      <td>Bitcoin</td>\n",
              "    </tr>\n",
              "    <tr>\n",
              "      <th>...</th>\n",
              "      <td>...</td>\n",
              "      <td>...</td>\n",
              "      <td>...</td>\n",
              "      <td>...</td>\n",
              "      <td>...</td>\n",
              "      <td>...</td>\n",
              "      <td>...</td>\n",
              "    </tr>\n",
              "    <tr>\n",
              "      <th>199995</th>\n",
              "      <td>SUSHIUSDT</td>\n",
              "      <td>2023-02-12</td>\n",
              "      <td>1.312</td>\n",
              "      <td>1.324</td>\n",
              "      <td>1.241</td>\n",
              "      <td>1.267</td>\n",
              "      <td>Ethereum</td>\n",
              "    </tr>\n",
              "    <tr>\n",
              "      <th>199996</th>\n",
              "      <td>SUSHIUSDT</td>\n",
              "      <td>2023-02-13</td>\n",
              "      <td>1.267</td>\n",
              "      <td>1.287</td>\n",
              "      <td>1.205</td>\n",
              "      <td>1.284</td>\n",
              "      <td>Ethereum</td>\n",
              "    </tr>\n",
              "    <tr>\n",
              "      <th>199997</th>\n",
              "      <td>SUSHIUSDT</td>\n",
              "      <td>2023-02-14</td>\n",
              "      <td>1.283</td>\n",
              "      <td>1.326</td>\n",
              "      <td>1.244</td>\n",
              "      <td>1.308</td>\n",
              "      <td>Ethereum</td>\n",
              "    </tr>\n",
              "    <tr>\n",
              "      <th>199998</th>\n",
              "      <td>SUSHIUSDT</td>\n",
              "      <td>2023-02-15</td>\n",
              "      <td>1.308</td>\n",
              "      <td>1.420</td>\n",
              "      <td>1.283</td>\n",
              "      <td>1.418</td>\n",
              "      <td>Ethereum</td>\n",
              "    </tr>\n",
              "    <tr>\n",
              "      <th>199999</th>\n",
              "      <td>SUSHIUSDT</td>\n",
              "      <td>2023-02-16</td>\n",
              "      <td>1.418</td>\n",
              "      <td>1.439</td>\n",
              "      <td>1.315</td>\n",
              "      <td>1.324</td>\n",
              "      <td>Ethereum</td>\n",
              "    </tr>\n",
              "  </tbody>\n",
              "</table>\n",
              "<p>200000 rows × 7 columns</p>\n",
              "</div>\n",
              "    <div class=\"colab-df-buttons\">\n",
              "\n",
              "  <div class=\"colab-df-container\">\n",
              "    <button class=\"colab-df-convert\" onclick=\"convertToInteractive('df-bdb79806-d533-4700-9c79-3e34d12d3772')\"\n",
              "            title=\"Convert this dataframe to an interactive table.\"\n",
              "            style=\"display:none;\">\n",
              "\n",
              "  <svg xmlns=\"http://www.w3.org/2000/svg\" height=\"24px\" viewBox=\"0 -960 960 960\">\n",
              "    <path d=\"M120-120v-720h720v720H120Zm60-500h600v-160H180v160Zm220 220h160v-160H400v160Zm0 220h160v-160H400v160ZM180-400h160v-160H180v160Zm440 0h160v-160H620v160ZM180-180h160v-160H180v160Zm440 0h160v-160H620v160Z\"/>\n",
              "  </svg>\n",
              "    </button>\n",
              "\n",
              "  <style>\n",
              "    .colab-df-container {\n",
              "      display:flex;\n",
              "      gap: 12px;\n",
              "    }\n",
              "\n",
              "    .colab-df-convert {\n",
              "      background-color: #E8F0FE;\n",
              "      border: none;\n",
              "      border-radius: 50%;\n",
              "      cursor: pointer;\n",
              "      display: none;\n",
              "      fill: #1967D2;\n",
              "      height: 32px;\n",
              "      padding: 0 0 0 0;\n",
              "      width: 32px;\n",
              "    }\n",
              "\n",
              "    .colab-df-convert:hover {\n",
              "      background-color: #E2EBFA;\n",
              "      box-shadow: 0px 1px 2px rgba(60, 64, 67, 0.3), 0px 1px 3px 1px rgba(60, 64, 67, 0.15);\n",
              "      fill: #174EA6;\n",
              "    }\n",
              "\n",
              "    .colab-df-buttons div {\n",
              "      margin-bottom: 4px;\n",
              "    }\n",
              "\n",
              "    [theme=dark] .colab-df-convert {\n",
              "      background-color: #3B4455;\n",
              "      fill: #D2E3FC;\n",
              "    }\n",
              "\n",
              "    [theme=dark] .colab-df-convert:hover {\n",
              "      background-color: #434B5C;\n",
              "      box-shadow: 0px 1px 3px 1px rgba(0, 0, 0, 0.15);\n",
              "      filter: drop-shadow(0px 1px 2px rgba(0, 0, 0, 0.3));\n",
              "      fill: #FFFFFF;\n",
              "    }\n",
              "  </style>\n",
              "\n",
              "    <script>\n",
              "      const buttonEl =\n",
              "        document.querySelector('#df-bdb79806-d533-4700-9c79-3e34d12d3772 button.colab-df-convert');\n",
              "      buttonEl.style.display =\n",
              "        google.colab.kernel.accessAllowed ? 'block' : 'none';\n",
              "\n",
              "      async function convertToInteractive(key) {\n",
              "        const element = document.querySelector('#df-bdb79806-d533-4700-9c79-3e34d12d3772');\n",
              "        const dataTable =\n",
              "          await google.colab.kernel.invokeFunction('convertToInteractive',\n",
              "                                                    [key], {});\n",
              "        if (!dataTable) return;\n",
              "\n",
              "        const docLinkHtml = 'Like what you see? Visit the ' +\n",
              "          '<a target=\"_blank\" href=https://colab.research.google.com/notebooks/data_table.ipynb>data table notebook</a>'\n",
              "          + ' to learn more about interactive tables.';\n",
              "        element.innerHTML = '';\n",
              "        dataTable['output_type'] = 'display_data';\n",
              "        await google.colab.output.renderOutput(dataTable, element);\n",
              "        const docLink = document.createElement('div');\n",
              "        docLink.innerHTML = docLinkHtml;\n",
              "        element.appendChild(docLink);\n",
              "      }\n",
              "    </script>\n",
              "  </div>\n",
              "\n",
              "\n",
              "    <div id=\"df-053577f4-bcb6-45e7-a780-6c8d5a006e4f\">\n",
              "      <button class=\"colab-df-quickchart\" onclick=\"quickchart('df-053577f4-bcb6-45e7-a780-6c8d5a006e4f')\"\n",
              "                title=\"Suggest charts\"\n",
              "                style=\"display:none;\">\n",
              "\n",
              "<svg xmlns=\"http://www.w3.org/2000/svg\" height=\"24px\"viewBox=\"0 0 24 24\"\n",
              "     width=\"24px\">\n",
              "    <g>\n",
              "        <path d=\"M19 3H5c-1.1 0-2 .9-2 2v14c0 1.1.9 2 2 2h14c1.1 0 2-.9 2-2V5c0-1.1-.9-2-2-2zM9 17H7v-7h2v7zm4 0h-2V7h2v10zm4 0h-2v-4h2v4z\"/>\n",
              "    </g>\n",
              "</svg>\n",
              "      </button>\n",
              "\n",
              "<style>\n",
              "  .colab-df-quickchart {\n",
              "      --bg-color: #E8F0FE;\n",
              "      --fill-color: #1967D2;\n",
              "      --hover-bg-color: #E2EBFA;\n",
              "      --hover-fill-color: #174EA6;\n",
              "      --disabled-fill-color: #AAA;\n",
              "      --disabled-bg-color: #DDD;\n",
              "  }\n",
              "\n",
              "  [theme=dark] .colab-df-quickchart {\n",
              "      --bg-color: #3B4455;\n",
              "      --fill-color: #D2E3FC;\n",
              "      --hover-bg-color: #434B5C;\n",
              "      --hover-fill-color: #FFFFFF;\n",
              "      --disabled-bg-color: #3B4455;\n",
              "      --disabled-fill-color: #666;\n",
              "  }\n",
              "\n",
              "  .colab-df-quickchart {\n",
              "    background-color: var(--bg-color);\n",
              "    border: none;\n",
              "    border-radius: 50%;\n",
              "    cursor: pointer;\n",
              "    display: none;\n",
              "    fill: var(--fill-color);\n",
              "    height: 32px;\n",
              "    padding: 0;\n",
              "    width: 32px;\n",
              "  }\n",
              "\n",
              "  .colab-df-quickchart:hover {\n",
              "    background-color: var(--hover-bg-color);\n",
              "    box-shadow: 0 1px 2px rgba(60, 64, 67, 0.3), 0 1px 3px 1px rgba(60, 64, 67, 0.15);\n",
              "    fill: var(--button-hover-fill-color);\n",
              "  }\n",
              "\n",
              "  .colab-df-quickchart-complete:disabled,\n",
              "  .colab-df-quickchart-complete:disabled:hover {\n",
              "    background-color: var(--disabled-bg-color);\n",
              "    fill: var(--disabled-fill-color);\n",
              "    box-shadow: none;\n",
              "  }\n",
              "\n",
              "  .colab-df-spinner {\n",
              "    border: 2px solid var(--fill-color);\n",
              "    border-color: transparent;\n",
              "    border-bottom-color: var(--fill-color);\n",
              "    animation:\n",
              "      spin 1s steps(1) infinite;\n",
              "  }\n",
              "\n",
              "  @keyframes spin {\n",
              "    0% {\n",
              "      border-color: transparent;\n",
              "      border-bottom-color: var(--fill-color);\n",
              "      border-left-color: var(--fill-color);\n",
              "    }\n",
              "    20% {\n",
              "      border-color: transparent;\n",
              "      border-left-color: var(--fill-color);\n",
              "      border-top-color: var(--fill-color);\n",
              "    }\n",
              "    30% {\n",
              "      border-color: transparent;\n",
              "      border-left-color: var(--fill-color);\n",
              "      border-top-color: var(--fill-color);\n",
              "      border-right-color: var(--fill-color);\n",
              "    }\n",
              "    40% {\n",
              "      border-color: transparent;\n",
              "      border-right-color: var(--fill-color);\n",
              "      border-top-color: var(--fill-color);\n",
              "    }\n",
              "    60% {\n",
              "      border-color: transparent;\n",
              "      border-right-color: var(--fill-color);\n",
              "    }\n",
              "    80% {\n",
              "      border-color: transparent;\n",
              "      border-right-color: var(--fill-color);\n",
              "      border-bottom-color: var(--fill-color);\n",
              "    }\n",
              "    90% {\n",
              "      border-color: transparent;\n",
              "      border-bottom-color: var(--fill-color);\n",
              "    }\n",
              "  }\n",
              "</style>\n",
              "\n",
              "      <script>\n",
              "        async function quickchart(key) {\n",
              "          const quickchartButtonEl =\n",
              "            document.querySelector('#' + key + ' button');\n",
              "          quickchartButtonEl.disabled = true;  // To prevent multiple clicks.\n",
              "          quickchartButtonEl.classList.add('colab-df-spinner');\n",
              "          try {\n",
              "            const charts = await google.colab.kernel.invokeFunction(\n",
              "                'suggestCharts', [key], {});\n",
              "          } catch (error) {\n",
              "            console.error('Error during call to suggestCharts:', error);\n",
              "          }\n",
              "          quickchartButtonEl.classList.remove('colab-df-spinner');\n",
              "          quickchartButtonEl.classList.add('colab-df-quickchart-complete');\n",
              "        }\n",
              "        (() => {\n",
              "          let quickchartButtonEl =\n",
              "            document.querySelector('#df-053577f4-bcb6-45e7-a780-6c8d5a006e4f button');\n",
              "          quickchartButtonEl.style.display =\n",
              "            google.colab.kernel.accessAllowed ? 'block' : 'none';\n",
              "        })();\n",
              "      </script>\n",
              "    </div>\n",
              "\n",
              "    </div>\n",
              "  </div>\n"
            ],
            "application/vnd.google.colaboratory.intrinsic+json": {
              "type": "dataframe"
            }
          },
          "metadata": {}
        }
      ],
      "source": [
        "# === Load & Show Data ===\n",
        "path = kagglehub.dataset_download(\"imtkaggleteam/top-100-cryptocurrency-2020-2025\")\n",
        "print(\"Path to dataset files:\", path)\n",
        "\n",
        "# Baca CSV utama\n",
        "df = pd.read_csv(f\"{path}/top_100_cryptos_with_correct_network.csv\")\n",
        "\n",
        "print(\"Shape (raw):\", df.shape)\n",
        "display(df.head(200000))"
      ]
    },
    {
      "cell_type": "markdown",
      "id": "76406ceb",
      "metadata": {
        "id": "76406ceb"
      },
      "source": [
        "## 3) Preprocessing\n",
        "- Normalisasi kolom → lowercase\n",
        "- Parse `date`\n",
        "- Cast numerik untuk `open, high, low, close`\n",
        "- Drop NaN di OHLC\n",
        "- **Window**: ambil `KEEP_DAYS` terakhir dari tanggal maksimal\n",
        "- **Per-coin cap**: ambil baris paling akhir per koin hingga `PER_COIN_MAX`\n",
        "- Scaling + PCA 2D untuk visualisasi"
      ]
    },
    {
      "cell_type": "code",
      "execution_count": null,
      "id": "54393607",
      "metadata": {
        "colab": {
          "base_uri": "https://localhost:8080/"
        },
        "id": "54393607",
        "outputId": "c8263894-0643-4989-b322-9e68ed848243"
      },
      "outputs": [
        {
          "output_type": "stream",
          "name": "stdout",
          "text": [
            "Setelah window & cap per coin: (18100, 7) | #coins: 100\n",
            "Explained variance (PC1+PC2) full: 0.9999476509367337\n"
          ]
        }
      ],
      "source": [
        "# === Preprocessing + Window & Cap ===\n",
        "KEEP_DAYS    = 180\n",
        "PER_COIN_MAX = 500\n",
        "\n",
        "# Normalisasi kolom & tipe\n",
        "df.columns = [c.strip().lower() for c in df.columns]\n",
        "if 'date' in df.columns:\n",
        "    df['date'] = pd.to_datetime(df['date'], errors='coerce')\n",
        "else:\n",
        "    df['date'] = pd.NaT\n",
        "\n",
        "for c in ['open','high','low','close']:\n",
        "    if c in df.columns:\n",
        "        df[c] = pd.to_numeric(df[c], errors='coerce')\n",
        "\n",
        "# Drop NaN OHLC & urutkan\n",
        "df = df.dropna(subset=[c for c in ['open','high','low','close'] if c in df.columns]).copy()\n",
        "df = df.sort_values(by=[c for c in ['symbol','date'] if c in df.columns], kind='mergesort')\n",
        "\n",
        "# Window: KEEP_DAYS terakhir\n",
        "df_s = df.copy()\n",
        "if 'date' in df_s.columns and not df_s['date'].isna().all():\n",
        "    max_date = df_s['date'].max()\n",
        "    min_date = max_date - pd.Timedelta(days=KEEP_DAYS)\n",
        "    df_s = df_s[df_s['date'] >= min_date].copy()\n",
        "\n",
        "# Per-coin cap (tail)\n",
        "if 'symbol' in df_s.columns:\n",
        "    df_s = (\n",
        "        df_s.sort_values(['symbol','date'], kind='mergesort')\n",
        "            .groupby('symbol', group_keys=False)\n",
        "            .tail(PER_COIN_MAX)\n",
        "    )\n",
        "\n",
        "print(\"Setelah window & cap per coin:\", df_s.shape, \"| #coins:\", df_s['symbol'].nunique())\n",
        "\n",
        "# Fitur & scaling\n",
        "Xdf = df_s[['open','high','low','close']].astype(float)\n",
        "scaler = StandardScaler()\n",
        "X_all = scaler.fit_transform(Xdf.values)\n",
        "\n",
        "# PCA (untuk visualisasi nanti)\n",
        "pca_full = PCA(n_components=2, random_state=42)\n",
        "Xp_all = pca_full.fit_transform(X_all)\n",
        "\n",
        "print(\"Explained variance (PC1+PC2) full:\", pca_full.explained_variance_ratio_.sum())"
      ]
    },
    {
      "cell_type": "markdown",
      "id": "cbe05733",
      "metadata": {
        "id": "cbe05733"
      },
      "source": [
        "## 4)  Sampling per Coin\n"
      ]
    },
    {
      "cell_type": "code",
      "execution_count": null,
      "id": "2e572103",
      "metadata": {
        "colab": {
          "base_uri": "https://localhost:8080/"
        },
        "id": "2e572103",
        "outputId": "4888926c-653d-4e52-94de-a1b6427f1b72"
      },
      "outputs": [
        {
          "output_type": "stream",
          "name": "stdout",
          "text": [
            "Ukuran subset — KMeans: (18100, 4) | DBSCAN: (18100, 4) | Plot: (18100, 2)\n",
            "Coins terwakili — KMeans: 100 | DBSCAN: 100 | Plot: 100\n"
          ]
        }
      ],
      "source": [
        "# === Sampling per Coin ===\n",
        "RNG = np.random.default_rng(42)\n",
        "SAMPLE_MODE = 'random'\n",
        "\n",
        "# Ukuran per koin\n",
        "N_PER_COIN_KMEANS = 200\n",
        "N_PER_COIN_DBSCAN = 200\n",
        "N_PER_COIN_PLOT   = 250\n",
        "\n",
        "def balanced_per_coin(df_in, n_per_coin, mode='random', rng=None):\n",
        "    if rng is None:\n",
        "        rng = np.random.default_rng(42)\n",
        "    parts = []\n",
        "    if 'symbol' not in df_in.columns:\n",
        "        return df_in.iloc[0:0].copy()\n",
        "    for sym, sub in df_in.groupby('symbol', sort=False):\n",
        "        if mode == 'recent':\n",
        "            pick = sub.tail(n_per_coin)\n",
        "        else:\n",
        "            if len(sub) <= n_per_coin:\n",
        "                pick = sub\n",
        "            else:\n",
        "                pick = sub.sample(n=n_per_coin, random_state=rng.integers(0, 1_000_000))\n",
        "        parts.append(pick)\n",
        "    out = pd.concat(parts, axis=0)\n",
        "    return out.sort_values(['symbol','date'], kind='mergesort')\n",
        "\n",
        "# mapping index -> posisi di X_all\n",
        "pos_map = pd.Series(np.arange(X_all.shape[0]), index=df_s.index)\n",
        "\n",
        "# subset balanced\n",
        "df_km = balanced_per_coin(df_s, N_PER_COIN_KMEANS, mode=SAMPLE_MODE, rng=RNG)\n",
        "df_db = balanced_per_coin(df_s, N_PER_COIN_DBSCAN, mode=SAMPLE_MODE, rng=RNG)\n",
        "df_pl = balanced_per_coin(df_s, N_PER_COIN_PLOT,   mode=SAMPLE_MODE, rng=RNG)\n",
        "\n",
        "idx_km = pos_map.loc[df_km.index].to_numpy()\n",
        "idx_db = pos_map.loc[df_db.index].to_numpy()\n",
        "idx_pl = pos_map.loc[df_pl.index].to_numpy()\n",
        "\n",
        "X_km = X_all[idx_km]\n",
        "X_db = X_all[idx_db]\n",
        "Xp_pl = Xp_all[idx_pl]\n",
        "\n",
        "print(\"Ukuran subset — KMeans:\", X_km.shape, \"| DBSCAN:\", X_db.shape, \"| Plot:\", Xp_pl.shape)\n",
        "print(\"Coins terwakili — KMeans:\", df_km['symbol'].nunique(), \"| DBSCAN:\", df_db['symbol'].nunique(), \"| Plot:\", df_pl['symbol'].nunique())"
      ]
    },
    {
      "cell_type": "markdown",
      "id": "fbaeb601",
      "metadata": {
        "id": "fbaeb601"
      },
      "source": [
        "## 5) KMeans"
      ]
    },
    {
      "cell_type": "code",
      "execution_count": null,
      "id": "93e67159",
      "metadata": {
        "colab": {
          "base_uri": "https://localhost:8080/",
          "height": 1000
        },
        "id": "93e67159",
        "outputId": "ab3018dc-f8ba-43b3-a5e4-29787d4eb4b8"
      },
      "outputs": [
        {
          "output_type": "stream",
          "name": "stdout",
          "text": [
            "BEST k = 2 | Silhouette = 0.9958\n"
          ]
        },
        {
          "output_type": "display_data",
          "data": {
            "text/plain": [
              "<Figure size 600x400 with 1 Axes>"
            ],
            "image/png": "[encoded data removed]"
          },
          "metadata": {}
        },
        {
          "output_type": "display_data",
          "data": {
            "text/plain": [
              "<Figure size 600x400 with 1 Axes>"
            ],
            "image/png": "[encoded data removed]"
          },
          "metadata": {}
        },
        {
          "output_type": "display_data",
          "data": {
            "text/plain": [
              "<Figure size 600x500 with 1 Axes>"
            ],
            "image/png": "[encoded data removed]"
          },
          "metadata": {}
        }
      ],
      "source": [
        "# === KMeans (balanced subset) ===\n",
        "K_RANGE = range(2, 15)  # 2..14\n",
        "\n",
        "best_k, best_sil = None, -1\n",
        "sil_per_k, inertia_per_k = [], []\n",
        "\n",
        "for k in K_RANGE:\n",
        "    km = KMeans(n_clusters=k, random_state=42, n_init=10)\n",
        "    labels = km.fit_predict(X_km)\n",
        "    sil = silhouette_score(X_km, labels) if len(set(labels)) > 1 else -1\n",
        "    sil_per_k.append((k, sil))\n",
        "    inertia_per_k.append((k, km.inertia_))\n",
        "    if sil > best_sil:\n",
        "        best_sil, best_k = sil, k\n",
        "\n",
        "print(f\"BEST k = {best_k} | Silhouette = {best_sil:.4f}\")\n",
        "\n",
        "# Fit final dengan best_k\n",
        "km = KMeans(n_clusters=best_k, random_state=42, n_init=10).fit(X_km)\n",
        "df_km = df_km.copy()\n",
        "df_km['kmeans_label'] = km.labels_\n",
        "\n",
        "# Elbow & Silhouette plots\n",
        "plt.figure(figsize=(6,4))\n",
        "plt.plot([k for k,_ in inertia_per_k], [v for _,v in inertia_per_k], marker='o')\n",
        "plt.title(\"Elbow Plot (Inertia vs k) — Balanced Subset\")\n",
        "plt.xlabel(\"k\"); plt.ylabel(\"Inertia\"); plt.grid(True); plt.show()\n",
        "\n",
        "plt.figure(figsize=(6,4))\n",
        "plt.plot([k for k,_ in sil_per_k], [v for _,v in sil_per_k], marker='o')\n",
        "plt.title(\"Silhouette vs k — Balanced Subset\")\n",
        "plt.xlabel(\"k\"); plt.ylabel(\"Silhouette\"); plt.grid(True); plt.show()\n",
        "\n",
        "plt.figure(figsize=(6,5))\n",
        "plt.scatter(Xp_pl[:,0], Xp_pl[:,1], s=5, c=df_km['kmeans_label'].values)\n",
        "plt.title(\"PCA Scatter — KMeans (plot subset)\")\n",
        "plt.xlabel(\"PC1\"); plt.ylabel(\"PC2\"); plt.show()"
      ]
    },
    {
      "cell_type": "markdown",
      "id": "06603c51",
      "metadata": {
        "id": "06603c51"
      },
      "source": [
        "## 6) DBSCAN (simplified)"
      ]
    },
    {
      "cell_type": "code",
      "execution_count": null,
      "id": "7786f70a",
      "metadata": {
        "colab": {
          "base_uri": "https://localhost:8080/",
          "height": 504
        },
        "id": "7786f70a",
        "outputId": "115aadf0-8351-4d2a-dae6-187870233564"
      },
      "outputs": [
        {
          "output_type": "stream",
          "name": "stdout",
          "text": [
            "Best DBSCAN → eps: 0.0030159536059728874 min_samples: 8 sil: 0.9559795133545244 noise: 0.04640883977900553\n"
          ]
        },
        {
          "output_type": "display_data",
          "data": {
            "text/plain": [
              "<Figure size 600x500 with 1 Axes>"
            ],
            "image/png": "[encoded data removed]"
          },
          "metadata": {}
        }
      ],
      "source": [
        "# === DBSCAN (simple, subset only) ===\n",
        "min_samples = max(4, 2 * X_db.shape[1])\n",
        "\n",
        "nn = NearestNeighbors(n_neighbors=min_samples).fit(X_db)\n",
        "dists, _ = nn.kneighbors(X_db)\n",
        "k_dists = np.sort(dists[:, -1])\n",
        "eps = float(np.percentile(k_dists, 95))\n",
        "\n",
        "db = DBSCAN(eps=eps, min_samples=min_samples).fit(X_db)\n",
        "labels_db = db.labels_\n",
        "\n",
        "# Silhouette hanya untuk non-noise bila cluster >= 2\n",
        "mask_core = labels_db != -1\n",
        "if mask_core.sum() > 1 and len(np.unique(labels_db[mask_core])) > 1:\n",
        "    sil = float(silhouette_score(X_db[mask_core], labels_db[mask_core]))\n",
        "else:\n",
        "    sil = float(\"nan\")\n",
        "\n",
        "noise_ratio = float((labels_db == -1).mean())\n",
        "\n",
        "print(f\"Best DBSCAN → eps: {eps} min_samples: {min_samples} sil: {sil} noise: {noise_ratio}\")\n",
        "\n",
        "# (Opsional) PCA plot untuk subset DBSCAN\n",
        "plt.figure(figsize=(6,5))\n",
        "plt.scatter(Xp_pl[:,0], Xp_pl[:,1], s=5, c=labels_db if len(labels_db)==len(Xp_pl) else None)\n",
        "plt.title('PCA Scatter — DBSCAN (subset)')\n",
        "plt.xlabel('PC1'); plt.ylabel('PC2'); plt.show()"
      ]
    },
    {
      "cell_type": "markdown",
      "id": "706a27f2",
      "metadata": {
        "id": "706a27f2"
      },
      "source": [
        "## 7)  Export untuk Orange — subset + label"
      ]
    },
    {
      "cell_type": "code",
      "execution_count": null,
      "id": "0e3e8db5",
      "metadata": {
        "colab": {
          "base_uri": "https://localhost:8080/"
        },
        "id": "0e3e8db5",
        "outputId": "415238f0-074b-41ef-b9e1-ab7051cea348"
      },
      "outputs": [
        {
          "output_type": "stream",
          "name": "stdout",
          "text": [
            "Saved: crypto_ohlc_clusters_final_subset.csv\n"
          ]
        }
      ],
      "source": [
        "# === Export untuk Orange  ===\n",
        "try:\n",
        "    out_km = df_km[['symbol','date','open','high','low','close','kmeans_label']].copy()\n",
        "except KeyError:\n",
        "    out_km = df_km.assign(kmeans_label=np.nan)[['symbol','date','open','high','low','close','kmeans_label']]\n",
        "out_db = df_db[['symbol','date','open','high','low','close']].copy()\n",
        "out_db = out_db.assign(dbscan_label=labels_db)\n",
        "\n",
        "out = out_km.merge(out_db, how='outer', on=['symbol','date','open','high','low','close'])\n",
        "out_csv = \"crypto_ohlc_clusters_final_subset.csv\"\n",
        "out.to_csv(out_csv, index=False)\n",
        "print(\"Saved:\", out_csv)"
      ]
    },
    {
      "cell_type": "markdown",
      "metadata": {
        "id": "67e28a77"
      },
      "source": [
        "## Analisa Hasil Clustering\n",
        "Berdasarkan proses clustering menggunakan KMeans dan DBSCAN:\n",
        "\n",
        "**KMeans:**\n",
        "- K terbaik yang ditemukan berdasarkan silhouette score adalah **k = 2** dengan silhouette score **0.9958**.\n",
        "- Plot Elbow menunjukkan penurunan inertia yang signifikan pada k=2.\n",
        "- Plot Silhouette juga mendukung k=2 sebagai jumlah cluster yang optimal.\n",
        "- Scatter plot PCA dengan label KMeans menunjukkan bahwa data dibagi menjadi 2 cluster yang cukup terpisah.\n",
        "\n",
        "**DBSCAN:**\n",
        "- Parameter yang digunakan adalah `eps: 0.0030` dan `min_samples: 8`.\n",
        "- Silhouette score untuk DBSCAN (tidak termasuk noise) adalah **0.9560**.\n",
        "- Rasio noise (data yang tidak termasuk dalam cluster) adalah sekitar **4.64%**.\n",
        "- Scatter plot PCA dengan label DBSCAN menunjukkan pembentukan cluster dan beberapa titik noise.\n",
        "\n",
        "Secara keseluruhan, kedua metode clustering menghasilkan hasil yang mirip dengan jumlah cluster yang sedikit. KMeans mengidentifikasi 2 cluster utama, sementara DBSCAN juga menemukan cluster yang serupa dengan beberapa titik data yang dianggap sebagai noise. Silhouette scores yang tinggi untuk kedua metode menunjukkan bahwa cluster yang terbentuk cukup terpisah dan padat."
      ],
      "id": "67e28a77"
    }
  ],
  "metadata": {
    "colab": {
      "provenance": [],
      "toc_visible": true,
      "include_colab_link": true
    },
    "language_info": {
      "name": "python"
    },
    "kernelspec": {
      "name": "python3",
      "display_name": "Python 3"
    }
  },
  "nbformat": 4,
  "nbformat_minor": 5
}