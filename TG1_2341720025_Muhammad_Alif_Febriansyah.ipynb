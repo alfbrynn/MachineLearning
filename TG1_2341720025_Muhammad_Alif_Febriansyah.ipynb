{
  "nbformat": 4,
  "nbformat_minor": 0,
  "metadata": {
    "colab": {
      "provenance": [],
      "authorship_tag": "ABX9TyPC5mZ0ZXUBODHAC1/d/v7p",
      "include_colab_link": true
    },
    "kernelspec": {
      "name": "python3",
      "display_name": "Python 3"
    },
    "language_info": {
      "name": "python"
    }
  },
  "cells": [
    {
      "cell_type": "markdown",
      "metadata": {
        "id": "view-in-github",
        "colab_type": "text"
      },
      "source": [
        "<a href=\"https://colab.research.google.com/github/alfbrynn/MachineLearning/blob/main/TG1_2341720025_Muhammad_Alif_Febriansyah.ipynb\" target=\"_parent\"><img src=\"https://colab.research.google.com/assets/colab-badge.svg\" alt=\"Open In Colab\"/></a>"
      ]
    },
    {
      "cell_type": "code",
      "source": [],
      "metadata": {
        "id": "yOhYpcemAGgo"
      },
      "execution_count": null,
      "outputs": []
    },
    {
      "cell_type": "code",
      "metadata": {
        "colab": {
          "base_uri": "https://localhost:8080/"
        },
        "id": "dcce77b5",
        "outputId": "6c49287b-f254-4a95-ce8b-1d32d517d587"
      },
      "source": [
        "!pip install PyPREP scipy wandb pyECG"
      ],
      "execution_count": null,
      "outputs": [
        {
          "output_type": "stream",
          "name": "stdout",
          "text": [
            "Collecting PyPREP\n",
            "  Using cached pyprep-0.5.0-py3-none-any.whl.metadata (7.3 kB)\n",
            "Requirement already satisfied: scipy in /usr/local/lib/python3.12/dist-packages (1.16.1)\n",
            "Requirement already satisfied: wandb in /usr/local/lib/python3.12/dist-packages (0.21.3)\n",
            "Collecting pyECG\n",
            "  Using cached pyECG-0.0.9.1-py2.py3-none-any.whl.metadata (3.1 kB)\n",
            "Collecting mne>=1.3.0 (from PyPREP)\n",
            "  Using cached mne-1.10.1-py3-none-any.whl.metadata (20 kB)\n",
            "Requirement already satisfied: numpy>=1.20.2 in /usr/local/lib/python3.12/dist-packages (from PyPREP) (2.0.2)\n",
            "Requirement already satisfied: psutil>=5.4.3 in /usr/local/lib/python3.12/dist-packages (from PyPREP) (5.9.5)\n",
            "Requirement already satisfied: click>=8.0.1 in /usr/local/lib/python3.12/dist-packages (from wandb) (8.2.1)\n",
            "Requirement already satisfied: gitpython!=3.1.29,>=1.0.0 in /usr/local/lib/python3.12/dist-packages (from wandb) (3.1.45)\n",
            "Requirement already satisfied: packaging in /usr/local/lib/python3.12/dist-packages (from wandb) (25.0)\n",
            "Requirement already satisfied: platformdirs in /usr/local/lib/python3.12/dist-packages (from wandb) (4.4.0)\n",
            "Requirement already satisfied: protobuf!=4.21.0,!=5.28.0,<7,>=3.19.0 in /usr/local/lib/python3.12/dist-packages (from wandb) (5.29.5)\n",
            "Requirement already satisfied: pydantic<3 in /usr/local/lib/python3.12/dist-packages (from wandb) (2.11.7)\n",
            "Requirement already satisfied: pyyaml in /usr/local/lib/python3.12/dist-packages (from wandb) (6.0.2)\n",
            "Requirement already satisfied: requests<3,>=2.0.0 in /usr/local/lib/python3.12/dist-packages (from wandb) (2.32.4)\n",
            "Requirement already satisfied: sentry-sdk>=2.0.0 in /usr/local/lib/python3.12/dist-packages (from wandb) (2.36.0)\n",
            "Requirement already satisfied: typing-extensions<5,>=4.8 in /usr/local/lib/python3.12/dist-packages (from wandb) (4.15.0)\n",
            "Collecting ishneholterlib==2017.4.11 (from pyECG)\n",
            "  Using cached ishneholterlib-2017.4.11.tar.gz (7.0 kB)\n",
            "  Preparing metadata (setup.py) ... \u001b[?25l\u001b[?25hdone\n",
            "Collecting wfdb==2.2.1 (from pyECG)\n",
            "  Using cached wfdb-2.2.1.tar.gz (94 kB)\n",
            "  Preparing metadata (setup.py) ... \u001b[?25l\u001b[?25hdone\n",
            "Requirement already satisfied: pytest in /usr/local/lib/python3.12/dist-packages (from pyECG) (8.4.2)\n",
            "Collecting pytest-cov (from pyECG)\n",
            "  Using cached pytest_cov-7.0.0-py3-none-any.whl.metadata (31 kB)\n",
            "Collecting PyCRC (from ishneholterlib==2017.4.11->pyECG)\n",
            "  Using cached pycrc-0.11.0-py3-none-any.whl.metadata (2.7 kB)\n",
            "Collecting nose>=1.3.7 (from wfdb==2.2.1->pyECG)\n",
            "  Using cached nose-1.3.7-py3-none-any.whl.metadata (1.7 kB)\n",
            "Requirement already satisfied: matplotlib>=1.5.1 in /usr/local/lib/python3.12/dist-packages (from wfdb==2.2.1->pyECG) (3.10.0)\n",
            "Requirement already satisfied: pandas>=0.19.1 in /usr/local/lib/python3.12/dist-packages (from wfdb==2.2.1->pyECG) (2.2.2)\n",
            "Collecting sklearn>=0.0 (from wfdb==2.2.1->pyECG)\n",
            "  Using cached sklearn-0.0.post12.tar.gz (2.6 kB)\n",
            "  \u001b[1;31merror\u001b[0m: \u001b[1msubprocess-exited-with-error\u001b[0m\n",
            "  \n",
            "  \u001b[31m×\u001b[0m \u001b[32mpython setup.py egg_info\u001b[0m did not run successfully.\n",
            "  \u001b[31m│\u001b[0m exit code: \u001b[1;36m1\u001b[0m\n",
            "  \u001b[31m╰─>\u001b[0m See above for output.\n",
            "  \n",
            "  \u001b[1;35mnote\u001b[0m: This error originates from a subprocess, and is likely not a problem with pip.\n",
            "  Preparing metadata (setup.py) ... \u001b[?25l\u001b[?25herror\n",
            "\u001b[1;31merror\u001b[0m: \u001b[1mmetadata-generation-failed\u001b[0m\n",
            "\n",
            "\u001b[31m×\u001b[0m Encountered error while generating package metadata.\n",
            "\u001b[31m╰─>\u001b[0m See above for output.\n",
            "\n",
            "\u001b[1;35mnote\u001b[0m: This is an issue with the package mentioned above, not pip.\n",
            "\u001b[1;36mhint\u001b[0m: See above for details.\n"
          ]
        }
      ]
    },
    {
      "cell_type": "code",
      "metadata": {
        "colab": {
          "base_uri": "https://localhost:8080/"
        },
        "outputId": "6c49287b-f254-4a95-ce8b-1d32d517d587",
        "id": "_kAAac2VDA7B"
      },
      "source": [
        "!pip install PyPREP scipy wandb pyECG"
      ],
      "execution_count": null,
      "outputs": [
        {
          "output_type": "stream",
          "name": "stdout",
          "text": [
            "Collecting PyPREP\n",
            "  Using cached pyprep-0.5.0-py3-none-any.whl.metadata (7.3 kB)\n",
            "Requirement already satisfied: scipy in /usr/local/lib/python3.12/dist-packages (1.16.1)\n",
            "Requirement already satisfied: wandb in /usr/local/lib/python3.12/dist-packages (0.21.3)\n",
            "Collecting pyECG\n",
            "  Using cached pyECG-0.0.9.1-py2.py3-none-any.whl.metadata (3.1 kB)\n",
            "Collecting mne>=1.3.0 (from PyPREP)\n",
            "  Using cached mne-1.10.1-py3-none-any.whl.metadata (20 kB)\n",
            "Requirement already satisfied: numpy>=1.20.2 in /usr/local/lib/python3.12/dist-packages (from PyPREP) (2.0.2)\n",
            "Requirement already satisfied: psutil>=5.4.3 in /usr/local/lib/python3.12/dist-packages (from PyPREP) (5.9.5)\n",
            "Requirement already satisfied: click>=8.0.1 in /usr/local/lib/python3.12/dist-packages (from wandb) (8.2.1)\n",
            "Requirement already satisfied: gitpython!=3.1.29,>=1.0.0 in /usr/local/lib/python3.12/dist-packages (from wandb) (3.1.45)\n",
            "Requirement already satisfied: packaging in /usr/local/lib/python3.12/dist-packages (from wandb) (25.0)\n",
            "Requirement already satisfied: platformdirs in /usr/local/lib/python3.12/dist-packages (from wandb) (4.4.0)\n",
            "Requirement already satisfied: protobuf!=4.21.0,!=5.28.0,<7,>=3.19.0 in /usr/local/lib/python3.12/dist-packages (from wandb) (5.29.5)\n",
            "Requirement already satisfied: pydantic<3 in /usr/local/lib/python3.12/dist-packages (from wandb) (2.11.7)\n",
            "Requirement already satisfied: pyyaml in /usr/local/lib/python3.12/dist-packages (from wandb) (6.0.2)\n",
            "Requirement already satisfied: requests<3,>=2.0.0 in /usr/local/lib/python3.12/dist-packages (from wandb) (2.32.4)\n",
            "Requirement already satisfied: sentry-sdk>=2.0.0 in /usr/local/lib/python3.12/dist-packages (from wandb) (2.36.0)\n",
            "Requirement already satisfied: typing-extensions<5,>=4.8 in /usr/local/lib/python3.12/dist-packages (from wandb) (4.15.0)\n",
            "Collecting ishneholterlib==2017.4.11 (from pyECG)\n",
            "  Using cached ishneholterlib-2017.4.11.tar.gz (7.0 kB)\n",
            "  Preparing metadata (setup.py) ... \u001b[?25l\u001b[?25hdone\n",
            "Collecting wfdb==2.2.1 (from pyECG)\n",
            "  Using cached wfdb-2.2.1.tar.gz (94 kB)\n",
            "  Preparing metadata (setup.py) ... \u001b[?25l\u001b[?25hdone\n",
            "Requirement already satisfied: pytest in /usr/local/lib/python3.12/dist-packages (from pyECG) (8.4.2)\n",
            "Collecting pytest-cov (from pyECG)\n",
            "  Using cached pytest_cov-7.0.0-py3-none-any.whl.metadata (31 kB)\n",
            "Collecting PyCRC (from ishneholterlib==2017.4.11->pyECG)\n",
            "  Using cached pycrc-0.11.0-py3-none-any.whl.metadata (2.7 kB)\n",
            "Collecting nose>=1.3.7 (from wfdb==2.2.1->pyECG)\n",
            "  Using cached nose-1.3.7-py3-none-any.whl.metadata (1.7 kB)\n",
            "Requirement already satisfied: matplotlib>=1.5.1 in /usr/local/lib/python3.12/dist-packages (from wfdb==2.2.1->pyECG) (3.10.0)\n",
            "Requirement already satisfied: pandas>=0.19.1 in /usr/local/lib/python3.12/dist-packages (from wfdb==2.2.1->pyECG) (2.2.2)\n",
            "Collecting sklearn>=0.0 (from wfdb==2.2.1->pyECG)\n",
            "  Using cached sklearn-0.0.post12.tar.gz (2.6 kB)\n",
            "  \u001b[1;31merror\u001b[0m: \u001b[1msubprocess-exited-with-error\u001b[0m\n",
            "  \n",
            "  \u001b[31m×\u001b[0m \u001b[32mpython setup.py egg_info\u001b[0m did not run successfully.\n",
            "  \u001b[31m│\u001b[0m exit code: \u001b[1;36m1\u001b[0m\n",
            "  \u001b[31m╰─>\u001b[0m See above for output.\n",
            "  \n",
            "  \u001b[1;35mnote\u001b[0m: This error originates from a subprocess, and is likely not a problem with pip.\n",
            "  Preparing metadata (setup.py) ... \u001b[?25l\u001b[?25herror\n",
            "\u001b[1;31merror\u001b[0m: \u001b[1mmetadata-generation-failed\u001b[0m\n",
            "\n",
            "\u001b[31m×\u001b[0m Encountered error while generating package metadata.\n",
            "\u001b[31m╰─>\u001b[0m See above for output.\n",
            "\n",
            "\u001b[1;35mnote\u001b[0m: This is an issue with the package mentioned above, not pip.\n",
            "\u001b[1;36mhint\u001b[0m: See above for details.\n"
          ]
        }
      ]
    },
    {
      "cell_type": "markdown",
      "metadata": {
        "id": "a826c3ab"
      },
      "source": [
        "Berikut adalah penjelasan kegunaan masing-masing library:\n",
        "\n",
        "*   **PyPREP**: Library ini umumnya digunakan untuk preprocessing data EEG (Electroencephalography), termasuk langkah-langkah seperti deteksi artefak, filtering, dan segmentasi data.\n",
        "*   **Scipy**: Scipy adalah library fundamental untuk komputasi ilmiah dan teknis di Python. Ia menyediakan modul untuk optimasi, aljabar linier, integrasi, interpolasi, fungsi khusus, pemrosesan sinyal, pemrosesan gambar, dan banyak lagi.\n",
        "*   **wandb (Weights & Biases)**: Library ini adalah platform untuk melacak eksperimen machine learning, memvisualisasikan metrik, dan berbagi hasil. Sangat berguna untuk mengelola siklus hidup proyek machine learning.\n",
        "*   **pyECG**: Library ini berfokus pada analisis data EKG (Electrocardiography). Ia menyediakan fungsi untuk membaca, memproses, dan menganalisis sinyal EKG."
      ]
    }
  ]
}