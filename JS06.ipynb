{
  "nbformat": 4,
  "nbformat_minor": 0,
  "metadata": {
    "colab": {
      "provenance": [],
      "authorship_tag": "ABX9TyNG6YPOjwA1TabMo8FLf688",
      "include_colab_link": true
    },
    "kernelspec": {
      "name": "python3",
      "display_name": "Python 3"
    },
    "language_info": {
      "name": "python"
    }
  },
  "cells": [
    {
      "cell_type": "markdown",
      "metadata": {
        "id": "view-in-github",
        "colab_type": "text"
      },
      "source": [
        "<a href=\"https://colab.research.google.com/github/alfbrynn/MachineLearning/blob/main/JS06.ipynb\" target=\"_parent\"><img src=\"https://colab.research.google.com/assets/colab-badge.svg\" alt=\"Open In Colab\"/></a>"
      ]
    },
    {
      "cell_type": "code",
      "execution_count": null,
      "metadata": {
        "id": "aAH_2nhsl9i9"
      },
      "outputs": [],
      "source": [
        "# import package\n",
        "import numpy as np\n",
        "import pandas as pd"
      ]
    },
    {
      "cell_type": "code",
      "source": [
        "# baca data dari file CSV\n",
        "data = pd.read_csv('dataset.csv')"
      ],
      "metadata": {
        "id": "5zp2tCQNmA4v"
      },
      "execution_count": null,
      "outputs": []
    },
    {
      "cell_type": "code",
      "source": [
        "# melihat beberapa data awal\n",
        "data.head()\n",
        "\n",
        "# mengecek ukuran data\n",
        "data.shape\n",
        "\n",
        "# informasi tentang data\n",
        "data.info()\n",
        "\n",
        "# deskripsi data\n",
        "data.describe()"
      ],
      "metadata": {
        "id": "D90Ujr2jmCLq"
      },
      "execution_count": null,
      "outputs": []
    },
    {
      "cell_type": "code",
      "source": [
        "# import library untuk visualisasi\n",
        "import matplotlib.pyplot as plt\n",
        "import seaborn as sns"
      ],
      "metadata": {
        "id": "X4ZIG6IgmDwj"
      },
      "execution_count": null,
      "outputs": []
    },
    {
      "cell_type": "code",
      "source": [
        "# visualisasi korelasi dengan heatmap\n",
        "sns.heatmap(data.corr(), cmap=\"YlGnBu\", annot=True)\n",
        "plt.show()"
      ],
      "metadata": {
        "id": "8c1SKsAgmErZ"
      },
      "execution_count": null,
      "outputs": []
    },
    {
      "cell_type": "code",
      "source": [
        "# Membuat variabel bebas X dan Y, contoh pengambilan dari analisis korelasi sebelumnya\n",
        "X = data['Length of Membership']\n",
        "y = data['Yearly Amount Spent']"
      ],
      "metadata": {
        "id": "gKETjVwimFtK"
      },
      "execution_count": null,
      "outputs": []
    },
    {
      "cell_type": "code",
      "source": [
        "# Pembagian data latih dan data uji dengan proporsi 7:3\n",
        "from sklearn.model_selection import train_test_split\n",
        "X_train, X_test, y_train, y_test = train_test_split(X, y, train_size=0.7, test_size=0.3, random_state=100)"
      ],
      "metadata": {
        "id": "m1Fox9himGXJ"
      },
      "execution_count": null,
      "outputs": []
    },
    {
      "cell_type": "code",
      "source": [
        "# Training model\n",
        "import statsmodels.api as sm\n",
        "\n",
        "X_train_sm = sm.add_constant(X_train)\n",
        "lr = sm.OLS(y_train, X_train_sm).fit()"
      ],
      "metadata": {
        "id": "fXe-iGxMmHqB"
      },
      "execution_count": null,
      "outputs": []
    },
    {
      "cell_type": "code",
      "source": [
        "# Visualisasi garis regresi\n",
        "plt.scatter(X_train, y_train)\n",
        "plt.plot(X_train, 265.2483 + 66.3015*X_train, 'r')\n",
        "plt.show()"
      ],
      "metadata": {
        "id": "op5jFS9omJGX"
      },
      "execution_count": null,
      "outputs": []
    },
    {
      "cell_type": "code",
      "source": [
        "# Prediksi nilai y_value dari data x yang telah dilatih\n",
        "y_train_pred = lr.predict(X_train_sm)\n",
        "\n",
        "# Menghitung residual\n",
        "res = (y_train - y_train_pred)"
      ],
      "metadata": {
        "id": "14Tjley1mLEu"
      },
      "execution_count": null,
      "outputs": []
    },
    {
      "cell_type": "code",
      "source": [
        "# Histogram residual\n",
        "fig = plt.figure()\n",
        "sns.distplot(res, bins=15)\n",
        "plt.title('Error Terms', fontsize=15)\n",
        "plt.xlabel('y_train - y_train_pred', fontsize=15)\n",
        "plt.show()\n",
        "\n",
        "# Scatter plot residual\n",
        "plt.scatter(X_train, res)\n",
        "plt.show()"
      ],
      "metadata": {
        "id": "NWTxcUS1mMO7"
      },
      "execution_count": null,
      "outputs": []
    },
    {
      "cell_type": "code",
      "source": [
        "# Prediksi pada data uji\n",
        "X_test_sm = sm.add_constant(X_test)\n",
        "y_test_pred = lr.predict(X_test_sm)"
      ],
      "metadata": {
        "id": "OpUsHvm6mNQ9"
      },
      "execution_count": null,
      "outputs": []
    },
    {
      "cell_type": "code",
      "source": [
        "# Hitung nilai R-squared\n",
        "from sklearn.metrics import r2_score\n",
        "\n",
        "r_squared = r2_score(y_test, y_test_pred)"
      ],
      "metadata": {
        "id": "HecmgK2lmOW3"
      },
      "execution_count": null,
      "outputs": []
    },
    {
      "cell_type": "code",
      "source": [
        "# Visualisasi data uji dan hasil prediksi\n",
        "plt.scatter(X_test, y_test)\n",
        "plt.plot(X_test, y_test_pred, 'r')\n",
        "plt.show()"
      ],
      "metadata": {
        "id": "4B-zC1sAmPVL"
      },
      "execution_count": null,
      "outputs": []
    }
  ]
}